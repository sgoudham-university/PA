{
 "cells": [
  {
   "cell_type": "markdown",
   "metadata": {
    "collapsed": true,
    "pycharm": {
     "name": "#%% md\n"
    }
   },
   "source": [
    "# Searching & Sorting -> Problem Set 1.1"
   ]
  },
  {
   "cell_type": "markdown",
   "metadata": {
    "pycharm": {
     "name": "#%% md\n"
    }
   },
   "source": [
    "## 1.\n",
    "\n",
    "**Q.** Without referring to the code available in the previous chapter,\n",
    "write a sequential search algorithm that searches for an integer in a given list of integers.\n",
    "Assume input list is not sorted."
   ]
  },
  {
   "cell_type": "code",
   "execution_count": 36,
   "metadata": {
    "pycharm": {
     "name": "#%%\n"
    }
   },
   "outputs": [
    {
     "name": "stdout",
     "output_type": "stream",
     "text": [
      "Is Element 10 In List: True\n",
      "Is Element 560 In List: False\n"
     ]
    }
   ],
   "source": [
    "unsorted_list = [4, 6, 21, 366, 2, 67, 20, 10, 23]\n",
    "\n",
    "\n",
    "def sequential_search(unsorted_list, element):\n",
    "    for item in unsorted_list:\n",
    "        if element == item:\n",
    "            return True\n",
    "    return False\n",
    "\n",
    "\n",
    "print(f\"Is Element 10 In List: {sequential_search(unsorted_list, 10)}\")\n",
    "print(f\"Is Element 560 In List: {sequential_search(unsorted_list, 560)}\")"
   ]
  },
  {
   "cell_type": "markdown",
   "metadata": {
    "pycharm": {
     "name": "#%% md\n"
    }
   },
   "source": [
    "## 2.\n",
    "\n",
    "**Q.** Without referring to the code available in the previous chapter,\n",
    "write a sequential search algorithm that searches for an integer in a given list of integers.\n",
    "Assume input list is sorted (so your search function should exit as soon as it finds a value greater than the one you are looking for)."
   ]
  },
  {
   "cell_type": "code",
   "execution_count": 37,
   "metadata": {
    "pycharm": {
     "name": "#%%\n"
    }
   },
   "outputs": [
    {
     "name": "stdout",
     "output_type": "stream",
     "text": [
      "Is Element 10 In List: True\n",
      "Is Element 45 In List: False\n"
     ]
    }
   ],
   "source": [
    "sorted_list = [10, 20, 30, 40, 50, 60, 70, 80, 90, 100]\n",
    "\n",
    "\n",
    "def sorted_sequential_search(sorted_list, element):\n",
    "    for i in range(len(sorted_list)):\n",
    "        if element == sorted_list[i]:\n",
    "            return True\n",
    "        if element > sorted_list[i]:\n",
    "            return False\n",
    "    pass\n",
    "\n",
    "\n",
    "print(f\"Is Element 10 In List: {sorted_sequential_search(sorted_list, 10)}\")\n",
    "print(f\"Is Element 45 In List: {sorted_sequential_search(sorted_list, 45)}\")"
   ]
  },
  {
   "cell_type": "markdown",
   "metadata": {
    "pycharm": {
     "name": "#%% md\n"
    }
   },
   "source": [
    "## 3.\n",
    "\n",
    "**Q.** Implement the binary search algorithm that finds a given integer in a sorted list of integers."
   ]
  },
  {
   "cell_type": "code",
   "execution_count": 38,
   "metadata": {
    "pycharm": {
     "name": "#%%\n"
    }
   },
   "outputs": [
    {
     "name": "stdout",
     "output_type": "stream",
     "text": [
      "binary search called on list:  [10, 20, 30, 40, 50, 60, 70, 80, 90, 100]  of size:  10  and mid point of:  5\n",
      "binary search called on list:  [10, 20, 30, 40, 50]  of size:  5  and mid point of:  2\n",
      "binary search called on list:  [10, 20]  of size:  2  and mid point of:  1\n",
      "binary search called on list:  [10]  of size:  1  and mid point of:  0\n",
      "Is Element 10 In List: True\n",
      "binary search called on list:  [10, 20, 30, 40, 50, 60, 70, 80, 90, 100]  of size:  10  and mid point of:  5\n",
      "binary search called on list:  [10, 20, 30, 40, 50]  of size:  5  and mid point of:  2\n",
      "binary search called on list:  [40, 50]  of size:  2  and mid point of:  1\n",
      "binary search called on list:  [40]  of size:  1  and mid point of:  0\n",
      "binary search called on list:  []  of size:  0  and mid point of:  0\n",
      "Is Element 45 In List: False\n"
     ]
    }
   ],
   "source": [
    "sorted_list = [10, 20, 30, 40, 50, 60, 70, 80, 90, 100]\n",
    "\n",
    "\n",
    "def binary_search(sorted_list, element):\n",
    "    mid = len(sorted_list) // 2\n",
    "    print(\"binary search called on list: \", sorted_list, \" of size: \", len(sorted_list), \" and mid point of: \", mid)\n",
    "\n",
    "    if len(sorted_list) == 0:\n",
    "        return False\n",
    "    elif sorted_list[mid] == element:\n",
    "        return True\n",
    "    elif element < sorted_list[mid]:\n",
    "        return binary_search(sorted_list[0:mid], element)\n",
    "    else:\n",
    "        return binary_search(sorted_list[mid + 1:len(sorted_list)], element)\n",
    "\n",
    "\n",
    "print(f\"Is Element 10 In List: {binary_search(sorted_list, 10)}\")\n",
    "print(f\"Is Element 45 In List: {binary_search(sorted_list, 45)}\")"
   ]
  },
  {
   "cell_type": "markdown",
   "source": [
    "## 4.\n",
    "\n",
    "**Q.** Modify your sequential search algorithm (from #2) to work with words rather than integers.\n",
    "Test it on a small list of words, e.g., [\"Monday\",  \"Tuesday\", \"Wednesday\", \"Thursday\", \"Friday\", \"Saturday\", \"Sunday\"].\n",
    "The search should be case in-sensitive."
   ],
   "metadata": {
    "collapsed": false,
    "pycharm": {
     "name": "#%% md\n"
    }
   }
  },
  {
   "cell_type": "code",
   "execution_count": 39,
   "outputs": [
    {
     "name": "stdout",
     "output_type": "stream",
     "text": [
      "Is Element 'Monday' In List: True\n",
      "Is Element 'NotAWeekday' In List: False\n"
     ]
    }
   ],
   "source": [
    "sorted_list = [\"Monday\", \"Tuesday\", \"Wednesday\", \"Thursday\", \"Friday\", \"Saturday\", \"Sunday\"]\n",
    "sorted_list.sort()\n",
    "\n",
    "\n",
    "def sorted_sequential_search_words(sorted_list, element):\n",
    "    for i in range(len(sorted_list)):\n",
    "        if element.lower() == sorted_list[i].lower():\n",
    "            return True\n",
    "        if element.lower() < sorted_list[i].lower():\n",
    "            return False\n",
    "\n",
    "\n",
    "print(f\"Is Element 'Monday' In List: {sorted_sequential_search_words(sorted_list, 'Monday')}\")\n",
    "print(f\"Is Element 'NotAWeekday' In List: {sorted_sequential_search_words(sorted_list, 'NotAWeekday')}\")"
   ],
   "metadata": {
    "collapsed": false,
    "pycharm": {
     "name": "#%%\n"
    }
   }
  },
  {
   "cell_type": "markdown",
   "source": [
    "## 5.\n",
    "\n",
    "**Q.** Now, test your sequential search algorithm from #4 on a list of all English words in the dictionary.\n",
    " Note the time taken to search for a word."
   ],
   "metadata": {
    "collapsed": false,
    "pycharm": {
     "name": "#%% md\n"
    }
   }
  },
  {
   "cell_type": "code",
   "execution_count": 40,
   "outputs": [
    {
     "name": "stdout",
     "output_type": "stream",
     "text": [
      "Is Element 'zebra' In List: True\n",
      "Is Element 'z' In List: True\n",
      "Time Taken: 0.25577439999983653s\n"
     ]
    }
   ],
   "source": [
    "from timeit import default_timer as timer\n",
    "from nltk.corpus import words\n",
    "\n",
    "start = timer()\n",
    "print(f\"Is Element 'zebra' In List: {sorted_sequential_search_words(words.words(), 'zebra')}\")\n",
    "print(f\"Is Element 'z' In List: {sorted_sequential_search_words(words.words(), 'z')}\")\n",
    "end = timer()\n",
    "print(f\"Time Taken: {end - start}s\")"
   ],
   "metadata": {
    "collapsed": false,
    "pycharm": {
     "name": "#%%\n"
    }
   }
  },
  {
   "cell_type": "markdown",
   "source": [
    "## 6.\n",
    "\n",
    "**Q.** Modify your binary search algorithm (from 3.) to work with words rather than integers.\n",
    "Test it on a small list of words, e.g., [\"Monday\",  \"Tuesday\", \"Wednesday\", \"Thursday\", \"Friday\", \"Saturday\", \"Sunday\"].\n",
    "The search should be case in-sensitive."
   ],
   "metadata": {
    "collapsed": false,
    "pycharm": {
     "name": "#%% md\n"
    }
   }
  },
  {
   "cell_type": "code",
   "execution_count": 41,
   "outputs": [
    {
     "name": "stdout",
     "output_type": "stream",
     "text": [
      "Is Element 'Monday' In List: True\n",
      "Is Element 'NotAWeekday' In List: False\n"
     ]
    }
   ],
   "source": [
    "sorted_list = [\"Monday\", \"Tuesday\", \"Wednesday\", \"Thursday\", \"Friday\", \"Saturday\", \"Sunday\"]\n",
    "sorted_list.sort()\n",
    "\n",
    "\n",
    "def binary_search_words(sorted_list, element):\n",
    "    mid = len(sorted_list) // 2\n",
    "    # print(\"binary search called on list: \", sorted_list, \" of size: \", len(sorted_list), \" and mid point of: \", mid)\n",
    "\n",
    "    if len(sorted_list) == 0:\n",
    "        return False\n",
    "    elif sorted_list[mid].lower() == element.lower():\n",
    "        return True\n",
    "    elif element.lower() < sorted_list[mid].lower():\n",
    "        return binary_search_words(sorted_list[0:mid], element)\n",
    "    else:\n",
    "        return binary_search_words(sorted_list[mid + 1:len(sorted_list)], element)\n",
    "\n",
    "\n",
    "print(f\"Is Element 'Monday' In List: {binary_search_words(sorted_list, 'Monday')}\")\n",
    "print(f\"Is Element 'NotAWeekday' In List: {binary_search_words(sorted_list, 'NotAWeekday')}\")"
   ],
   "metadata": {
    "collapsed": false,
    "pycharm": {
     "name": "#%%\n"
    }
   }
  },
  {
   "cell_type": "markdown",
   "source": [
    "## 7.\n",
    "\n",
    "**Q.**  Now, test your binary search algorithm from 6. on a list of all English words in the dictionary.\n",
    "See this for a tip on how to get a list of all dictionary words. Note the time taken to search for a word.\n",
    "Compare it with your timing result from 5, and comment on your findings."
   ],
   "metadata": {
    "collapsed": false,
    "pycharm": {
     "name": "#%% md\n"
    }
   }
  },
  {
   "cell_type": "code",
   "execution_count": 42,
   "outputs": [
    {
     "name": "stdout",
     "output_type": "stream",
     "text": [
      "Is Element 'zebra' In List: True\n",
      "Is Element 'z' In List: True\n",
      "Time Taken: 0.1733188999999129s\n"
     ]
    }
   ],
   "source": [
    "from timeit import default_timer as timer\n",
    "from nltk.corpus import words\n",
    "\n",
    "start = timer()\n",
    "print(f\"Is Element 'zebra' In List: {binary_search_words(words.words(), 'zebra')}\")\n",
    "print(f\"Is Element 'z' In List: {binary_search_words(words.words(), 'z')}\")\n",
    "end = timer()\n",
    "print(f\"Time Taken: {end - start}s\")"
   ],
   "metadata": {
    "collapsed": false,
    "pycharm": {
     "name": "#%%\n"
    }
   }
  },
  {
   "cell_type": "markdown",
   "source": [
    "# Findings\n",
    "\n",
    "## BINARY SEARCH GOOD. LINEAR SEARCH BAD"
   ],
   "metadata": {
    "collapsed": false,
    "pycharm": {
     "name": "#%% md\n"
    }
   }
  }
 ],
 "metadata": {
  "kernelspec": {
   "display_name": "Python 3 (ipykernel)",
   "language": "python",
   "name": "python3"
  },
  "language_info": {
   "codemirror_mode": {
    "name": "ipython",
    "version": 3
   },
   "file_extension": ".py",
   "mimetype": "text/x-python",
   "name": "python",
   "nbconvert_exporter": "python",
   "pygments_lexer": "ipython3",
   "version": "3.9.5"
  }
 },
 "nbformat": 4,
 "nbformat_minor": 1
}