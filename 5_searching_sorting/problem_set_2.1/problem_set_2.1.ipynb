{
 "cells": [
  {
   "cell_type": "markdown",
   "metadata": {
    "collapsed": true,
    "pycharm": {
     "name": "#%% md\n"
    }
   },
   "source": [
    "# Searching & Sorting -> Problem Set 2.1"
   ]
  },
  {
   "cell_type": "markdown",
   "source": [
    "## 1.\n",
    "\n",
    "**Q.** Implement the bubble sort algorithm in Python. Sample solution is available in earlier chapters,\n",
    "but try to do it yourself first. I would suggest writing the pseudo-code yourself first too,\n",
    "maybe making use of deck of cards to work through the algorithm mentally first."
   ],
   "metadata": {
    "collapsed": false,
    "pycharm": {
     "name": "#%% md\n"
    }
   }
  },
  {
   "cell_type": "code",
   "source": [
    "def bubble_sort(unsorted_list):\n",
    "    for outer in range(len(unsorted_list), 0, -1):\n",
    "        for inner in range(outer - 1):\n",
    "            if unsorted_list[inner] > unsorted_list[inner + 1]:\n",
    "                temp = unsorted_list[inner]\n",
    "                unsorted_list[inner] = unsorted_list[inner + 1]\n",
    "                unsorted_list[inner + 1] = temp\n",
    "\n",
    "\n",
    "A = [10, 2, 5, 1, 52, 123, 26, 912, 234]\n",
    "print(f\"Unsorted List -> {A}\")\n",
    "bubble_sort(A)\n",
    "print(f\"Sorted List -> {A}\")"
   ],
   "metadata": {
    "collapsed": false,
    "pycharm": {
     "name": "#%%\n"
    }
   },
   "execution_count": 8,
   "outputs": [
    {
     "name": "stdout",
     "output_type": "stream",
     "text": [
      "Unsorted List -> [10, 2, 5, 1, 52, 123, 26, 912, 234]\n",
      "Sorted List -> [1, 2, 5, 10, 26, 52, 123, 234, 912]\n"
     ]
    }
   ]
  },
  {
   "cell_type": "markdown",
   "source": [
    "## 2.\n",
    "\n",
    "**Q.** Now, implement the insertion sort algorithm in Python.\n",
    "You have the pseudo-code in the lecture slides,\n",
    "though again as an exercise see if you can write it again from ground up."
   ],
   "metadata": {
    "collapsed": false,
    "pycharm": {
     "name": "#%% md\n"
    }
   }
  },
  {
   "cell_type": "code",
   "execution_count": 9,
   "outputs": [
    {
     "name": "stdout",
     "output_type": "stream",
     "text": [
      "Unsorted List -> [123, 234, 25, 23, 0, 2, 10, 235, 6729, 261]\n",
      "Sorted List -> [0, 2, 10, 23, 25, 123, 234, 235, 261, 6729]\n"
     ]
    }
   ],
   "source": [
    "def insertion_sort(unsorted_list):\n",
    "    for index in range(1, len(unsorted_list)):\n",
    "        value = unsorted_list[index]\n",
    "        position = index\n",
    "        while position > 0 and unsorted_list[position - 1] > value:\n",
    "            unsorted_list[position] = unsorted_list[position - 1]\n",
    "            position -= 1\n",
    "        unsorted_list[position] = value\n",
    "\n",
    "\n",
    "B = [123, 234, 25, 23, 0, 2, 10, 235, 6729, 261]\n",
    "print(f\"Unsorted List -> {B}\")\n",
    "insertion_sort(B)\n",
    "print(f\"Sorted List -> {B}\")"
   ],
   "metadata": {
    "collapsed": false,
    "pycharm": {
     "name": "#%%\n"
    }
   }
  },
  {
   "cell_type": "markdown",
   "source": [
    "## 3(a)\n",
    "\n",
    "**Q.** Implement the merge sort algorithm in Python"
   ],
   "metadata": {
    "collapsed": false,
    "pycharm": {
     "name": "#%% md\n"
    }
   }
  },
  {
   "cell_type": "code",
   "execution_count": 10,
   "outputs": [
    {
     "name": "stdout",
     "output_type": "stream",
     "text": [
      "Unsorted List -> [0, 5, 6, 3, 2, 1, 3]\n",
      "Sorted List -> [0, 1, 2, 3, 3, 5, 6]\n"
     ]
    }
   ],
   "source": [
    "import sys\n",
    "\n",
    "\n",
    "def merge(unsorted_list, start, mid, end):\n",
    "    left = unsorted_list[start:mid + 1]\n",
    "    right = unsorted_list[mid + 1:end + 1]\n",
    "    left.append(sys.maxsize)\n",
    "    right.append(sys.maxsize)\n",
    "    left_index = 0\n",
    "    right_index = 0\n",
    "\n",
    "    for top_index in range(start, end + 1):\n",
    "        if left[left_index] < right[right_index]:\n",
    "            unsorted_list[top_index] = left[left_index]\n",
    "            left_index += 1\n",
    "        else:\n",
    "            unsorted_list[top_index] = right[right_index]\n",
    "            right_index += 1\n",
    "\n",
    "\n",
    "def merge_sort(unsorted_list, start, end):\n",
    "    if start < end:\n",
    "        mid = (start + end) // 2\n",
    "        merge_sort(unsorted_list, start, mid)\n",
    "        merge_sort(unsorted_list, mid + 1, end)\n",
    "        merge(unsorted_list, start, mid, end)\n",
    "\n",
    "\n",
    "C = [0, 5, 6, 3, 2, 1, 3]\n",
    "print(f\"Unsorted List -> {C}\")\n",
    "merge_sort(C, 0, len(C) - 1)\n",
    "print(f\"Sorted List -> {C}\")"
   ],
   "metadata": {
    "collapsed": false,
    "pycharm": {
     "name": "#%%\n"
    }
   }
  },
  {
   "cell_type": "markdown",
   "source": [
    "## 3(b)\n",
    "\n",
    "**Q.** Implement the Quick Sort Algorithm"
   ],
   "metadata": {
    "collapsed": false,
    "pycharm": {
     "name": "#%% md\n"
    }
   }
  },
  {
   "cell_type": "code",
   "execution_count": 1,
   "outputs": [
    {
     "name": "stdout",
     "output_type": "stream",
     "text": [
      "Unsorted List -> [89, 92, 27, 91, 69, 59, 82, 41, 12, 27]\n",
      "Sorted List -> [12, 27, 27, 41, 59, 69, 82, 89, 91, 92]\n"
     ]
    }
   ],
   "source": [
    "import random\n",
    "\n",
    "\n",
    "def swap(unsorted_list, index_one, index_two):\n",
    "    temp = unsorted_list[index_two]\n",
    "    unsorted_list[index_two] = unsorted_list[index_one]\n",
    "    unsorted_list[index_one] = temp\n",
    "\n",
    "\n",
    "def partition(unsorted_list, start, end):\n",
    "    pivot = end\n",
    "    pivot_element = unsorted_list[pivot]\n",
    "    boundary = start - 1\n",
    "\n",
    "    for top_index in range(start, end):\n",
    "        if unsorted_list[top_index] <= pivot_element:\n",
    "            boundary += 1\n",
    "            swap(unsorted_list, top_index, boundary)\n",
    "\n",
    "    swap(unsorted_list, boundary + 1, pivot)\n",
    "    return boundary + 1\n",
    "\n",
    "\n",
    "def quick_sort(unsorted_list, start, end):\n",
    "    if start < end:\n",
    "        pivot = partition(unsorted_list, start, end)\n",
    "        quick_sort(unsorted_list, start, pivot - 1)\n",
    "        quick_sort(unsorted_list, pivot + 1, end)\n",
    "\n",
    "\n",
    "D = [random.randint(0, 100) for i in range(10)]\n",
    "print(f\"Unsorted List -> {D}\")\n",
    "quick_sort(D, 0, len(D) - 1)\n",
    "print(f\"Sorted List -> {D}\")"
   ],
   "metadata": {
    "collapsed": false,
    "pycharm": {
     "name": "#%%\n"
    }
   }
  }
 ],
 "metadata": {
  "kernelspec": {
   "display_name": "Python 3",
   "language": "python",
   "name": "python3"
  },
  "language_info": {
   "codemirror_mode": {
    "name": "ipython",
    "version": 2
   },
   "file_extension": ".py",
   "mimetype": "text/x-python",
   "name": "python",
   "nbconvert_exporter": "python",
   "pygments_lexer": "ipython2",
   "version": "2.7.6"
  }
 },
 "nbformat": 4,
 "nbformat_minor": 0
}