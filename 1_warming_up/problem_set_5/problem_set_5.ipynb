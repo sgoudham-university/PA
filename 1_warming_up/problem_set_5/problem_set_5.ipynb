{
 "cells": [
  {
   "cell_type": "markdown",
   "metadata": {
    "collapsed": true,
    "pycharm": {
     "name": "#%% md\n"
    }
   },
   "source": [
    "# Warming Up -> Problem Set 5"
   ]
  },
  {
   "cell_type": "markdown",
   "metadata": {},
   "source": [
    "### 2(a)"
   ]
  },
  {
   "cell_type": "code",
   "execution_count": 1,
   "metadata": {
    "pycharm": {
     "name": "#%%\n"
    }
   },
   "outputs": [
    {
     "name": "stdout",
     "output_type": "stream",
     "text": [
      "[100, 100, 100, 10201, 100, 100, 100, 100, 100, 100]\n"
     ]
    }
   ],
   "source": [
    "input_list = []\n",
    "for i in range(10):\n",
    "    input_number = int(input(\"Enter A Number: \"))\n",
    "    input_list.append(input_number)\n",
    "print([number ** 2 for number in input_list])\n"
   ]
  },
  {
   "cell_type": "markdown",
   "metadata": {
    "pycharm": {
     "name": "#%% md\n"
    }
   },
   "source": [
    "### 2(b)"
   ]
  },
  {
   "cell_type": "code",
   "execution_count": 20,
   "metadata": {
    "pycharm": {
     "name": "#%%\n"
    }
   },
   "outputs": [],
   "source": [
    "with open(\"problem_set_5_integers.txt\") as file:\n",
    "    with open(\"new_problem_set_5_integers.txt\", \"w+\") as new_file:\n",
    "        for line in file:\n",
    "            new_file.write(str(int(line) ** 2) + \"\\n\")"
   ]
  },
  {
   "cell_type": "markdown",
   "metadata": {
    "pycharm": {
     "name": "#%% md\n"
    }
   },
   "source": [
    "### 2(c)"
   ]
  },
  {
   "cell_type": "code",
   "execution_count": 10,
   "metadata": {
    "pycharm": {
     "name": "#%%\n"
    }
   },
   "outputs": [
    {
     "name": "stdout",
     "output_type": "stream",
     "text": [
      "Index of anastasia: 2\n"
     ]
    }
   ],
   "source": [
    "names_list = []\n",
    "with open(\"problem_set_5_names.txt\") as file:\n",
    "    for name in file.readlines():\n",
    "        names_list.append(name.split(\"\\n\")[0])\n",
    "for index, name in enumerate(names_list):\n",
    "    if name.startswith(\"a\"):\n",
    "        print(f\"Index of {name}: {index}\")"
   ]
  },
  {
   "cell_type": "markdown",
   "metadata": {
    "pycharm": {
     "name": "#%% md\n"
    }
   },
   "source": [
    "### 2(d)"
   ]
  },
  {
   "cell_type": "code",
   "execution_count": 11,
   "metadata": {
    "pycharm": {
     "name": "#%%\n"
    }
   },
   "outputs": [
    {
     "name": "stdout",
     "output_type": "stream",
     "text": [
      "Using List\n",
      "Sum: 500000500000\n",
      "Memory: 106.1484375MB\n",
      "Time: 0.09375s\n"
     ]
    }
   ],
   "source": [
    "import psutil\n",
    "import time\n",
    "\n",
    "t = time.process_time()\n",
    "my_list = [i for i in range(1000001)]\n",
    "total = 0\n",
    "for i in my_list:\n",
    "    total += i\n",
    "\n",
    "print(\"Using List\")\n",
    "print(f\"Sum: {total}\")\n",
    "print(f\"Memory: {psutil.Process().memory_info().rss / (1024 * 1024)}MB\")\n",
    "print(f\"Time: {time.process_time() - t}s\")"
   ]
  },
  {
   "cell_type": "markdown",
   "metadata": {},
   "source": [
    "### 2(e)"
   ]
  },
  {
   "cell_type": "code",
   "execution_count": 12,
   "metadata": {
    "pycharm": {
     "name": "#%%\n"
    }
   },
   "outputs": [
    {
     "name": "stdout",
     "output_type": "stream",
     "text": [
      "[[10, 2, 23, 23, 2], [1, 2, 3, 2, 3], [2, 2, 3, 2, 2], [2, 2, 2, 2, 2]]\n",
      "[[10, 2, 23, 23, 2], [1, 2, 3, 2, 3], [2, 2, 3, 2, 2], [2, 2, 2, 2, 2]]\n"
     ]
    }
   ],
   "source": [
    "matrix = []\n",
    "for row in range(4):\n",
    "    row = []\n",
    "    for column in range(5):\n",
    "        input_value = int(input(\"Enter A Number: \"))\n",
    "        row.append(input_value)\n",
    "    matrix.append(row)\n",
    "\n",
    "print(matrix)\n",
    "\n",
    "for row in matrix:\n",
    "    for index, value in enumerate(row):\n",
    "        if value < 0:\n",
    "            row[index] = 0\n",
    "\n",
    "print(matrix)"
   ]
  },
  {
   "cell_type": "markdown",
   "metadata": {},
   "source": [
    "### 2(f)"
   ]
  },
  {
   "cell_type": "code",
   "execution_count": 13,
   "metadata": {
    "pycharm": {
     "name": "#%%\n"
    }
   },
   "outputs": [
    {
     "name": "stdout",
     "output_type": "stream",
     "text": [
      "[[1, 'a'], [2, 'b'], [3, 'c']]\n"
     ]
    }
   ],
   "source": [
    "def join(list_one, list_two):\n",
    "    new_list = []\n",
    "    for index, value in enumerate(list_one):\n",
    "        list_two_value = list_two[index]\n",
    "        new_list.append([value, list_two_value])\n",
    "    return new_list\n",
    "\n",
    "\n",
    "print(join([1, 2, 3], [\"a\", \"b\", \"c\"]))"
   ]
  },
  {
   "cell_type": "markdown",
   "metadata": {},
   "source": [
    "### 2(g)"
   ]
  },
  {
   "cell_type": "code",
   "execution_count": 14,
   "metadata": {
    "pycharm": {
     "name": "#%%\n"
    }
   },
   "outputs": [
    {
     "name": "stdout",
     "output_type": "stream",
     "text": [
      "([1, 2, 3], ['a', 'b', 'c'])\n"
     ]
    }
   ],
   "source": [
    "def split(nested_list):\n",
    "    list_one = []\n",
    "    list_two = []\n",
    "    for my_list in nested_list:\n",
    "        list_one.append(my_list[0])\n",
    "        list_two.append(my_list[1])\n",
    "    return list_one, list_two\n",
    "\n",
    "\n",
    "print(split([[1, 'a'], [2, 'b'], [3, 'c']]))"
   ]
  },
  {
   "cell_type": "markdown",
   "metadata": {},
   "source": [
    "### 3(a)"
   ]
  },
  {
   "cell_type": "code",
   "execution_count": 21,
   "metadata": {
    "pycharm": {
     "name": "#%%\n"
    }
   },
   "outputs": [
    {
     "name": "stdout",
     "output_type": "stream",
     "text": [
      "\n",
      "Using Arrays\n",
      "Sum: 500000500000\n",
      "Memory: 101.45703125MB\n",
      "Time: 0.0625s\n"
     ]
    }
   ],
   "source": [
    "import array as arr\n",
    "\n",
    "my_array = arr.array('i', range(1000001))\n",
    "t = time.process_time()\n",
    "total = 0\n",
    "for i in my_array:\n",
    "    total += i\n",
    "\n",
    "print(\"\\nUsing Arrays\")\n",
    "print(f\"Sum: {total}\")\n",
    "print(f\"Memory: {psutil.Process().memory_info().rss / (1024 * 1024)}MB\")\n",
    "print(f\"Time: {time.process_time() - t}s\")"
   ]
  },
  {
   "cell_type": "markdown",
   "metadata": {
    "pycharm": {
     "name": "#%% md\n"
    }
   },
   "source": [
    "### 4(a)"
   ]
  },
  {
   "cell_type": "markdown",
   "metadata": {
    "pycharm": {
     "name": "#%% md\n"
    }
   },
   "source": [
    "The results between 2(d) & 3(d) were compared, the conclusion being that using arrays resulted in less computation time\n",
    "and less usage of memory overall"
   ]
  },
  {
   "cell_type": "markdown",
   "metadata": {
    "pycharm": {
     "name": "#%% md\n"
    }
   },
   "source": [
    "### 5(a) [List Version]"
   ]
  },
  {
   "cell_type": "code",
   "execution_count": 23,
   "metadata": {
    "pycharm": {
     "name": "#%%\n"
    }
   },
   "outputs": [
    {
     "name": "stdout",
     "output_type": "stream",
     "text": [
      "Using List\n",
      "Memory: 101.4609375MB\n",
      "Size of List: 8856\n",
      "Time: 0.0s\n"
     ]
    }
   ],
   "source": [
    "import sys\n",
    "from random import randint\n",
    "\n",
    "t = time.process_time()\n",
    "student_list = [i for i in range(1001)]\n",
    "student_averages = []\n",
    "\n",
    "for student_id in student_list:\n",
    "    student_grade = round((randint(0, 100) + randint(0, 100) + randint(0, 100)) / 3, 2)\n",
    "    student_averages.append((student_id, student_grade))\n",
    "\n",
    "print(\"Using List\")\n",
    "print(f\"Memory: {psutil.Process().memory_info().rss / (1024 * 1024)}MB\")\n",
    "print(f\"Size of List: {sys.getsizeof(student_list)}\")\n",
    "print(f\"Time: {time.process_time() - t}s\")"
   ]
  },
  {
   "cell_type": "markdown",
   "metadata": {
    "pycharm": {
     "name": "#%% md\n"
    }
   },
   "source": [
    "### 5(b) {Dict Version}"
   ]
  },
  {
   "cell_type": "code",
   "execution_count": 24,
   "metadata": {
    "pycharm": {
     "name": "#%%\n"
    }
   },
   "outputs": [
    {
     "name": "stdout",
     "output_type": "stream",
     "text": [
      "Using Dictionaries\n",
      "Size of Dictionary: 36960 Bytes\n",
      "Memory: 101.4609375MB\n",
      "Time: 0.015625s\n"
     ]
    }
   ],
   "source": [
    "t = time.process_time()\n",
    "student_list = [i for i in range(1001)]\n",
    "student_dict = {}\n",
    "\n",
    "for student_id in student_list:\n",
    "    student_grade = round((randint(0, 100) + randint(0, 100) + randint(0, 100)) / 3, 2)\n",
    "    student_dict[student_id] = student_grade\n",
    "\n",
    "print(\"Using Dictionaries\")\n",
    "print(f\"Size of Dictionary: {sys.getsizeof(student_dict)} Bytes\")\n",
    "print(f\"Memory: {psutil.Process().memory_info().rss / (1024 * 1024)}MB\")\n",
    "print(f\"Time: {time.process_time() - t}s\")"
   ]
  },
  {
   "cell_type": "markdown",
   "metadata": {
    "pycharm": {
     "name": "#%% md\n"
    }
   },
   "source": [
    "### 6(a)"
   ]
  },
  {
   "cell_type": "code",
   "execution_count": 25,
   "metadata": {
    "pycharm": {
     "name": "#%%\n"
    }
   },
   "outputs": [
    {
     "name": "stdout",
     "output_type": "stream",
     "text": [
      "Enter A Sentence: YEAH BABYYYY\n",
      "{'yeah': 1, 'babyyyy': 1}\n"
     ]
    }
   ],
   "source": [
    "import string\n",
    "\n",
    "def word_freq():\n",
    "    words_dict = {}\n",
    "    input_words = input(\"Enter A Sentence: \")\n",
    "    split_words = input_words.split()\n",
    "\n",
    "    for word in split_words:\n",
    "        new_word = []\n",
    "        for char in word:\n",
    "            if char in string.ascii_letters:\n",
    "                new_word.append(char)\n",
    "        new_word_string = \"\".join(new_word).lower()\n",
    "\n",
    "        if new_word_string in words_dict:\n",
    "            words_dict[new_word_string] = words_dict.get(new_word_string) + 1\n",
    "        else:\n",
    "            words_dict[new_word_string] = 1\n",
    "\n",
    "    return words_dict\n",
    "\n",
    "\n",
    "print(word_freq())"
   ]
  }
 ],
 "metadata": {
  "kernelspec": {
   "display_name": "Python 3 (ipykernel)",
   "language": "python",
   "name": "python3"
  },
  "language_info": {
   "codemirror_mode": {
    "name": "ipython",
    "version": 3
   },
   "file_extension": ".py",
   "mimetype": "text/x-python",
   "name": "python",
   "nbconvert_exporter": "python",
   "pygments_lexer": "ipython3",
   "version": "3.9.4"
  }
 },
 "nbformat": 4,
 "nbformat_minor": 1
}