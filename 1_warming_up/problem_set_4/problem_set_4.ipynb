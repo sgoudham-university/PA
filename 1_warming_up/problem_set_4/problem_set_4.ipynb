{
 "cells": [
  {
   "cell_type": "markdown",
   "metadata": {
    "collapsed": true,
    "pycharm": {
     "name": "#%% md\n"
    }
   },
   "source": [
    "# Warming Up -> Problem Set 4"
   ]
  },
  {
   "cell_type": "markdown",
   "metadata": {
    "pycharm": {
     "name": "#%% md\n"
    }
   },
   "source": [
    "## Sequential Operations"
   ]
  },
  {
   "cell_type": "markdown",
   "metadata": {
    "pycharm": {
     "name": "#%% md\n"
    }
   },
   "source": [
    "### 1(a)"
   ]
  },
  {
   "cell_type": "code",
   "execution_count": null,
   "metadata": {
    "pycharm": {
     "name": "#%%\n"
    }
   },
   "outputs": [],
   "source": [
    "before_tax_price = float(input(\"Before Tax Price: \"))\n",
    "discount_offered = float(input(\"Discount Offered: \"))\n",
    "\n",
    "discount_price = before_tax_price * ((100 - discount_offered) / 100)\n",
    "final_price = discount_price * 1.175\n",
    "\n",
    "print(f\"Final Price: £{final_price:.2f}\")"
   ]
  },
  {
   "cell_type": "markdown",
   "metadata": {
    "pycharm": {
     "name": "#%% md\n"
    }
   },
   "source": [
    "### 1(b)"
   ]
  },
  {
   "cell_type": "code",
   "execution_count": null,
   "metadata": {
    "pycharm": {
     "name": "#%%\n"
    }
   },
   "outputs": [],
   "source": [
    "import random as rand\n",
    "\n",
    "last_name = input(\"Enter Your Last Name: \").lower()\n",
    "last_name_sliced = last_name[0:3]\n",
    "three_digit_num = rand.randint(100, 999)\n",
    "\n",
    "print(f\"Character ID: {last_name_sliced}{three_digit_num}\")"
   ]
  },
  {
   "cell_type": "markdown",
   "metadata": {
    "pycharm": {
     "name": "#%% md\n"
    }
   },
   "source": [
    "## Conditional Operations"
   ]
  },
  {
   "cell_type": "markdown",
   "metadata": {
    "pycharm": {
     "name": "#%% md\n"
    }
   },
   "source": [
    "### 2(a)"
   ]
  },
  {
   "cell_type": "code",
   "execution_count": null,
   "metadata": {
    "pycharm": {
     "name": "#%%\n"
    }
   },
   "outputs": [],
   "source": [
    "number_one = int(input(\"Enter First Number: \"))\n",
    "number_two = int(input(\"Enter Second Number: \"))\n",
    "\n",
    "if number_one % number_two == 0 or number_two % number_one == 0:\n",
    "    print(True)\n",
    "else:\n",
    "    print(False)"
   ]
  },
  {
   "cell_type": "markdown",
   "metadata": {
    "pycharm": {
     "name": "#%% md\n"
    }
   },
   "source": [
    "### 2(b)"
   ]
  },
  {
   "cell_type": "code",
   "execution_count": null,
   "metadata": {
    "pycharm": {
     "name": "#%%\n"
    }
   },
   "outputs": [],
   "source": [
    "hours = float(input(\"Enter Hours: \"))\n",
    "hourly_rate = float(input(\"Enter Hourly Rate: \"))\n",
    "\n",
    "gross_pay = 0\n",
    "if 0 < hours <= 40:\n",
    "    gross_pay = hours * hourly_rate\n",
    "elif hours > 40:\n",
    "    gross_pay = 40 * hourly_rate + ((hours - 40) * hourly_rate * 1.5)\n",
    "\n",
    "print(f\"Gross Pay: £{gross_pay:.2f}\")"
   ]
  },
  {
   "cell_type": "markdown",
   "metadata": {
    "pycharm": {
     "name": "#%% md\n"
    }
   },
   "source": [
    "### 2(c)"
   ]
  },
  {
   "cell_type": "code",
   "execution_count": null,
   "metadata": {
    "pycharm": {
     "name": "#%%\n"
    }
   },
   "outputs": [],
   "source": [
    "def twoC():\n",
    "    month_number = int(input(\"Enter A Number: \"))\n",
    "\n",
    "    if month_number == 3 or month_number == 4:\n",
    "        return \"Spring\"\n",
    "    elif month_number == 5 or month_number == 6 or month_number == 7 or month_number == 8:\n",
    "        return \"Summer\"\n",
    "    elif month_number == 9 or month_number == 10:\n",
    "        return \"Autumn\"\n",
    "    elif month_number == 11 or month_number == 12 or month_number == 1 or month_number == 2:\n",
    "        return \"Winter\"\n",
    "\n",
    "\n",
    "print(twoC())"
   ]
  },
  {
   "cell_type": "markdown",
   "metadata": {
    "pycharm": {
     "name": "#%% md\n"
    }
   },
   "source": [
    "### 3."
   ]
  },
  {
   "cell_type": "code",
   "execution_count": null,
   "metadata": {
    "pycharm": {
     "name": "#%%\n"
    }
   },
   "outputs": [],
   "source": [
    "def three():\n",
    "    number = input(\"Enter A 5 Digit Number: \")\n",
    "    if not number.isdigit() or len(number) != 5:\n",
    "        print(\"Not Suitable Number\")\n",
    "        return\n",
    "\n",
    "    return number == number[::-1]\n",
    "\n",
    "\n",
    "print(three())"
   ]
  },
  {
   "cell_type": "markdown",
   "metadata": {
    "pycharm": {
     "name": "#%% md\n"
    }
   },
   "source": [
    "## Iterative Operations"
   ]
  },
  {
   "cell_type": "markdown",
   "metadata": {
    "pycharm": {
     "name": "#%% md\n"
    }
   },
   "source": [
    "### 4(a)"
   ]
  },
  {
   "cell_type": "code",
   "execution_count": null,
   "metadata": {
    "pycharm": {
     "name": "#%%\n"
    }
   },
   "outputs": [],
   "source": [
    "n = int(input(\"Enter The Number of Iterations: \"))\n",
    "my_sum = 0\n",
    "i = 0\n",
    "\n",
    "while i < n:\n",
    "    number = int(input(\"Enter A Number: \"))\n",
    "    my_sum += number\n",
    "    i = i + 1\n",
    "\n",
    "print(f\"Total Sum: {my_sum}\")"
   ]
  },
  {
   "cell_type": "markdown",
   "metadata": {},
   "source": [
    "### 4(b)"
   ]
  },
  {
   "cell_type": "code",
   "execution_count": null,
   "metadata": {
    "pycharm": {
     "name": "#%%\n"
    }
   },
   "outputs": [],
   "source": [
    "n = int(input(\"Enter The Number of Iterations: \"))\n",
    "my_sum = 0\n",
    "\n",
    "for i in range(n):\n",
    "    number = int(input(\"Enter A Number: \"))\n",
    "    my_sum += number\n",
    "\n",
    "print(f\"Total Sum: {my_sum}\")"
   ]
  },
  {
   "cell_type": "markdown",
   "metadata": {},
   "source": [
    "### 4(c)"
   ]
  },
  {
   "cell_type": "code",
   "execution_count": null,
   "metadata": {
    "pycharm": {
     "name": "#%%\n"
    }
   },
   "outputs": [],
   "source": [
    "all_numbers = []\n",
    "\n",
    "while True:\n",
    "    new_input = int(input(\"Enter Number: \"))\n",
    "    if new_input == 0:\n",
    "        break\n",
    "    all_numbers.append(new_input)\n",
    "\n",
    "print(f\"Mean: {sum(all_numbers) / len(all_numbers)}\")"
   ]
  },
  {
   "cell_type": "markdown",
   "metadata": {},
   "source": [
    "### 4(e)"
   ]
  },
  {
   "cell_type": "code",
   "execution_count": null,
   "metadata": {
    "pycharm": {
     "name": "#%%\n"
    }
   },
   "outputs": [],
   "source": [
    "my_sum = 0\n",
    "while True:\n",
    "    user_input = int(input(\"Enter A Number: \"))\n",
    "    if my_sum + user_input >= 1000:\n",
    "        print(\"Sum Exceeded 1000!\")\n",
    "    break\n",
    "print(f\"Previous Sum: {my_sum}\")\n",
    "my_sum += user_input\n",
    "print(f\"New Sum: {my_sum}\")"
   ]
  },
  {
   "cell_type": "markdown",
   "metadata": {},
   "source": [
    "### 5(a)"
   ]
  },
  {
   "cell_type": "code",
   "execution_count": null,
   "metadata": {
    "pycharm": {
     "name": "#%%\n"
    }
   },
   "outputs": [],
   "source": [
    "import time\n",
    "\n",
    "t = time.process_time()\n",
    "my_sum = 0\n",
    "for number in range(10000001):\n",
    "    my_sum += number\n",
    "print(my_sum)\n",
    "print(time.process_time() - t)"
   ]
  },
  {
   "cell_type": "markdown",
   "metadata": {},
   "source": [
    "### 5(b)"
   ]
  },
  {
   "cell_type": "code",
   "execution_count": null,
   "metadata": {
    "pycharm": {
     "name": "#%%\n"
    }
   },
   "outputs": [],
   "source": [
    "import time\n",
    "\n",
    "t = time.process_time()\n",
    "my_sum = 0\n",
    "i = 0\n",
    "while i <= 10000000:\n",
    "    my_sum += i\n",
    "    i += 1\n",
    "print(my_sum)\n",
    "print(time.process_time() - t)"
   ]
  },
  {
   "cell_type": "markdown",
   "metadata": {},
   "source": [
    "### 5(c)"
   ]
  },
  {
   "cell_type": "code",
   "execution_count": null,
   "metadata": {
    "pycharm": {
     "name": "#%%\n"
    }
   },
   "outputs": [],
   "source": [
    "import time\n",
    "\n",
    "t = time.process_time()\n",
    "# sum = n(n + 1) / 2\n",
    "my_sum = (10000000 * (10000000 + 1)) / 2\n",
    "print(my_sum)\n",
    "print(time.process_time() - t)"
   ]
  },
  {
   "cell_type": "markdown",
   "metadata": {
    "pycharm": {
     "name": "#%% md\n"
    }
   },
   "source": [
    "### 5(d)"
   ]
  },
  {
   "cell_type": "code",
   "execution_count": null,
   "metadata": {
    "pycharm": {
     "name": "#%%\n"
    }
   },
   "outputs": [],
   "source": [
    "import time\n",
    "\n",
    "t = time.process_time()\n",
    "my_sum = 0\n",
    "for number in range(20000001):\n",
    "    my_sum += number\n",
    "print(my_sum)\n",
    "print(time.process_time() - t)\n",
    "\n",
    "t = time.process_time()\n",
    "my_sum = 0\n",
    "i = 0\n",
    "while i <= 20000000:\n",
    "    my_sum += i\n",
    "    i += 1\n",
    "print(my_sum)\n",
    "print(time.process_time() - t)\n",
    "\n",
    "t = time.process_time()\n",
    "# sum = n(n + 1) / 2\n",
    "my_sum = (20000000 * (20000000 + 1)) / 2\n",
    "print(my_sum)\n",
    "print(time.process_time() - t)"
   ]
  }
 ],
 "metadata": {
  "kernelspec": {
   "display_name": "Python 3 (ipykernel)",
   "language": "python",
   "name": "python3"
  },
  "language_info": {
   "codemirror_mode": {
    "name": "ipython",
    "version": 3
   },
   "file_extension": ".py",
   "mimetype": "text/x-python",
   "name": "python",
   "nbconvert_exporter": "python",
   "pygments_lexer": "ipython3",
   "version": "3.9.4"
  }
 },
 "nbformat": 4,
 "nbformat_minor": 1
}