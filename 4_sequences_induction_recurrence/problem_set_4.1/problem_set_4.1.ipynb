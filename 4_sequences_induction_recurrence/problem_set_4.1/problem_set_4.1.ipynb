{
 "cells": [
  {
   "cell_type": "markdown",
   "metadata": {
    "pycharm": {
     "name": "#%% md\n"
    }
   },
   "source": [
    "# Sequences, Induction & Recurrence -> Problem Set 4.1"
   ]
  },
  {
   "cell_type": "markdown",
   "metadata": {
    "pycharm": {
     "name": "#%% md\n"
    }
   },
   "source": [
    "## 1(a)\n",
    "\n",
    "**Q.** Write the fact (factorial) function in Python.\n",
    "Draw its call trace with pen and paper for fact(5). The call trace should show the sequence of calls as well as the return values from each call (see lecture slides for example).\n",
    "Use print messages to display its call trace (e.g., \"I am inside the  fact() function, with n = ...\")."
   ]
  },
  {
   "cell_type": "code",
   "execution_count": 8,
   "metadata": {
    "pycharm": {
     "name": "#%%\n"
    }
   },
   "outputs": [
    {
     "name": "stdout",
     "output_type": "stream",
     "text": [
      "fact(n) test: PASS\n"
     ]
    }
   ],
   "source": [
    "# 'Elegant' Solution\n",
    "def fact(n):\n",
    "    return 1 if n == 1 else n * fact(n - 1)\n",
    "\n",
    "\n",
    "# With StackTrace\n",
    "def fact_with_trace(n):\n",
    "    print(f\"fact() called with n = {n}\")\n",
    "    if n == 1:\n",
    "        return 1\n",
    "    return n * fact_with_trace(n - 1)\n",
    "\n",
    "\n",
    "def test_fact():\n",
    "    assert (fact(5) == 120), \"FACT functional test failed. Unexpected value\"\n",
    "    assert (fact(8) == 40320), \"FACT functional test failed. Unexpected value\"\n",
    "    assert (fact(10) == 3628800), \"FACT functional test failed. Unexpected value\"\n",
    "\n",
    "    print(\"fact(n) test: PASS\")\n",
    "\n",
    "\n",
    "test_fact()"
   ]
  },
  {
   "cell_type": "markdown",
   "metadata": {
    "pycharm": {
     "name": "#%% md\n"
    }
   },
   "source": [
    "## 1(b)\n",
    "\n",
    "**Q.** Is fact(n) a tail recursive function? Justify your answer.\n",
    "\n",
    "**A.** No, it is not a tail recursive function. This is not the case because a multiplication\n",
    "operation is applied to the result on the way back in the stack/call trace."
   ]
  },
  {
   "cell_type": "markdown",
   "metadata": {
    "pycharm": {
     "name": "#%% md\n"
    }
   },
   "source": [
    "## 1(c)\n",
    "\n",
    "**Q.** Is fact(n) a linear recursive function? Justify your answer.\n",
    "\n",
    "**A.** Yes, it is a linear recursive function because only one recursive call is ever executed\n",
    "at the same time."
   ]
  },
  {
   "cell_type": "markdown",
   "metadata": {
    "pycharm": {
     "name": "#%% md\n"
    }
   },
   "source": [
    "## 2.\n",
    "\n",
    "**Q.** Write the LINEAR_SUM function from the lecture slides in chapter 4. Draw its call graph for n = 3 and A = [3,6,4,8,7,5,2],\n",
    "and then test it in your program with the same values. Use print messages to display its call trace."
   ]
  },
  {
   "cell_type": "code",
   "execution_count": 9,
   "metadata": {
    "pycharm": {
     "name": "#%%\n"
    }
   },
   "outputs": [
    {
     "name": "stdout",
     "output_type": "stream",
     "text": [
      "The Sum Of The First 3 Elements Are: 13\n"
     ]
    }
   ],
   "source": [
    "def linear_sum(A, n):\n",
    "    if n == 1:\n",
    "        return A[0]\n",
    "    return linear_sum(A, n - 1) + A[n - 1]\n",
    "\n",
    "\n",
    "print(f\"The Sum Of The First 3 Elements Are: {linear_sum([3, 6, 4, 8, 7, 5, 2], 3)}\")\n"
   ]
  },
  {
   "cell_type": "markdown",
   "source": [
    "## 3.\n",
    "\n",
    "**Q.** Write the (tail) recursive as well as the iterative version of the \"reverse array\" function discussed in class.\n",
    "The pseudo-codes are shown below. Use print messages to display the call trace of the recursive version.\n",
    "\n",
    "reverse_array                       | reverse_array_iter\n",
    "-                                   | -\n",
    "![reverse_array](reverse_array.png) | ![reverse_array_iter](reverse_array_iter.png)"
   ],
   "metadata": {
    "collapsed": false,
    "pycharm": {
     "name": "#%% md\n"
    }
   }
  },
  {
   "cell_type": "code",
   "execution_count": 16,
   "outputs": [
    {
     "name": "stdout",
     "output_type": "stream",
     "text": [
      "Un-reversed List A: [1, 2, 3, 4, 5]\n",
      "Reversed List A: [5, 4, 3, 2, 1]\n",
      "\n",
      "Un-reversed List B: [1, 2, 3, 4, 5]\n",
      "Reversed List B: [5, 4, 3, 2, 1]\n"
     ]
    }
   ],
   "source": [
    "A = [1, 2, 3, 4, 5]\n",
    "B = [1, 2, 3, 4, 5]\n",
    "\n",
    "\n",
    "def swap(A, i, j):\n",
    "    temp = A[i]\n",
    "    A[i] = A[j]\n",
    "    A[j] = temp\n",
    "\n",
    "\n",
    "# Using Recursion\n",
    "def reverse_array(A, i, j):\n",
    "    if i < j:\n",
    "        swap(A, i, j)\n",
    "        reverse_array(A, i + 1, j - 1)\n",
    "\n",
    "\n",
    "# Using While Loop (Iterative)\n",
    "def reverse_array_iter(B, i, j):\n",
    "    while i < j:\n",
    "        swap(B, i, j)\n",
    "        i += 1\n",
    "        j -= 1\n",
    "\n",
    "\n",
    "print(f\"Un-reversed List A: {A}\")\n",
    "reverse_array(A, 0, len(A) - 1)\n",
    "print(f\"Reversed List A: {A}\")\n",
    "\n",
    "print(f\"\\nUn-reversed List B: {B}\")\n",
    "reverse_array_iter(B, 0, len(B) - 1)\n",
    "print(f\"Reversed List B: {B}\")\n"
   ],
   "metadata": {
    "collapsed": false,
    "pycharm": {
     "name": "#%%\n"
    }
   }
  },
  {
   "cell_type": "markdown",
   "source": [
    "## 4(a)\n",
    "\n",
    "**Q.** See if you can write this pseudo-code for fact_tail on your own first.\n",
    "If you get stuck, look it up at the bottom of this page.\n",
    "\n",
    "**A.** Implemented As Below"
   ],
   "metadata": {
    "collapsed": false
   }
  },
  {
   "cell_type": "markdown",
   "metadata": {
    "pycharm": {
     "name": "#%% md\n"
    }
   },
   "source": [
    "## 4(b)\n",
    "\n",
    "**Q.** Now implement the fact_tail function in Python.\n",
    "\n",
    "## 4(c)\n",
    "\n",
    "**Q.** Implement in Python, an iterative version of fact_tail."
   ]
  },
  {
   "cell_type": "code",
   "execution_count": 10,
   "metadata": {
    "pycharm": {
     "name": "#%%\n"
    }
   },
   "outputs": [
    {
     "name": "stdout",
     "output_type": "stream",
     "text": [
      "fact_tail: PASS\n",
      "fact_tail_iter: PASS\n"
     ]
    }
   ],
   "source": [
    "# With Tail Recursion\n",
    "def fact_tail(n, accumulator=1):\n",
    "    if n == 1:\n",
    "        return accumulator\n",
    "    accumulator *= n\n",
    "    return fact_tail(n - 1, accumulator)\n",
    "\n",
    "\n",
    "# With While Loop (Iterative)\n",
    "def fact_tail_iter(n, accumulator=1):\n",
    "    while n != 1:\n",
    "        accumulator *= n\n",
    "        n -= 1\n",
    "    return accumulator\n",
    "\n",
    "\n",
    "def test_fact(func2test):\n",
    "    assert (func2test(5) == 120), \"FACT functional test failed. Unexpected value\"\n",
    "    assert (func2test(8) == 40320), \"FACT functional test failed. Unexpected value\"\n",
    "    assert (func2test(10) == 3628800), \"FACT functional test failed. Unexpected value\"\n",
    "\n",
    "    print(f\"{func2test.__name__}: PASS\")\n",
    "\n",
    "\n",
    "test_fact(fact_tail)\n",
    "test_fact(fact_tail_iter)"
   ]
  },
  {
   "cell_type": "markdown",
   "metadata": {
    "pycharm": {
     "name": "#%% md\n"
    }
   },
   "source": [
    "## 4(d)\n",
    "\n",
    "**Q.** What is the complexity of fact_iter?\n",
    "\n",
    "**A.** O(n)"
   ]
  }
 ],
 "metadata": {
  "kernelspec": {
   "display_name": "Python 3 (ipykernel)",
   "language": "python",
   "name": "python3"
  },
  "language_info": {
   "codemirror_mode": {
    "name": "ipython",
    "version": 3
   },
   "file_extension": ".py",
   "mimetype": "text/x-python",
   "name": "python",
   "nbconvert_exporter": "python",
   "pygments_lexer": "ipython3",
   "version": "3.9.5"
  }
 },
 "nbformat": 4,
 "nbformat_minor": 1
}