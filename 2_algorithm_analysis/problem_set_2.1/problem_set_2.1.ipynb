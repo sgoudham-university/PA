{
 "cells": [
  {
   "cell_type": "markdown",
   "metadata": {},
   "source": [
    "# Algorithmic Analysis -> Problem Set 2.1"
   ]
  },
  {
   "cell_type": "markdown",
   "metadata": {
    "pycharm": {
     "name": "#%% md\n"
    }
   },
   "source": [
    "## 4(a)"
   ]
  },
  {
   "cell_type": "markdown",
   "source": [
    "### Initialising Functions"
   ],
   "metadata": {
    "collapsed": false,
    "pycharm": {
     "name": "#%% md\n"
    }
   }
  },
  {
   "cell_type": "code",
   "execution_count": 26,
   "metadata": {
    "pycharm": {
     "name": "#%%\n"
    }
   },
   "outputs": [],
   "source": [
    "import random\n",
    "import numpy as np\n",
    "from timeit import default_timer as timer\n",
    "\n",
    "\n",
    "def array_max(my_array):\n",
    "    maximum_element = my_array[0]\n",
    "    for element in my_array[1:]:\n",
    "        if maximum_element < element:\n",
    "            maximum_element = element\n",
    "    return maximum_element\n",
    "\n",
    "\n",
    "def initialise_array(n):\n",
    "    return np.array([random.randint(0, 1000000) for _ in range(n)])"
   ]
  },
  {
   "cell_type": "markdown",
   "metadata": {
    "pycharm": {
     "name": "#%% md\n"
    }
   },
   "source": [
    "### N = 10"
   ]
  },
  {
   "cell_type": "code",
   "execution_count": 28,
   "metadata": {
    "pycharm": {
     "name": "#%%\n"
    }
   },
   "outputs": [
    {
     "name": "stdout",
     "output_type": "stream",
     "text": [
      "Average Time Taken: 2.9900000072302645e-06\n"
     ]
    }
   ],
   "source": [
    "average_times = []\n",
    "for count in range(10):\n",
    "    ten_array = initialise_array(10)\n",
    "    start = timer()\n",
    "    max_element = array_max(ten_array)\n",
    "    end = timer()\n",
    "    average_times.append(end - start)\n",
    "print(f\"Average Time Taken: {sum(average_times) / len(average_times)}\")"
   ]
  },
  {
   "cell_type": "markdown",
   "metadata": {},
   "source": [
    "### N = 100"
   ]
  },
  {
   "cell_type": "code",
   "execution_count": 29,
   "metadata": {
    "pycharm": {
     "name": "#%%\n"
    }
   },
   "outputs": [
    {
     "name": "stdout",
     "output_type": "stream",
     "text": [
      "Average Time Taken: 7.80000000304426e-06\n"
     ]
    }
   ],
   "source": [
    "average_times = []\n",
    "for count in range(10):\n",
    "    ten_array = initialise_array(100)\n",
    "    start = timer()\n",
    "    max_element = array_max(ten_array)\n",
    "    end = timer()\n",
    "    average_times.append(end - start)\n",
    "print(f\"Average Time Taken: {sum(average_times) / len(average_times)}\")"
   ]
  },
  {
   "cell_type": "markdown",
   "source": [
    "### N = 1000"
   ],
   "metadata": {
    "collapsed": false,
    "pycharm": {
     "name": "#%% md\n"
    }
   }
  },
  {
   "cell_type": "code",
   "execution_count": 30,
   "outputs": [
    {
     "name": "stdout",
     "output_type": "stream",
     "text": [
      "Average Time Taken: 0.00041741000000001806\n"
     ]
    }
   ],
   "source": [
    "average_times = []\n",
    "for count in range(10):\n",
    "    ten_array = initialise_array(10000)\n",
    "    start = timer()\n",
    "    max_element = array_max(ten_array)\n",
    "    end = timer()\n",
    "    average_times.append(end - start)\n",
    "print(f\"Average Time Taken: {sum(average_times) / len(average_times)}\")"
   ],
   "metadata": {
    "collapsed": false,
    "pycharm": {
     "name": "#%%\n"
    }
   }
  },
  {
   "cell_type": "markdown",
   "source": [
    "## Findings\n",
    "\n",
    "**BIGGER NUMBER = LONGER TIME**"
   ],
   "metadata": {
    "collapsed": false
   }
  }
 ],
 "metadata": {
  "kernelspec": {
   "display_name": "Python 3 (ipykernel)",
   "language": "python",
   "name": "python3"
  },
  "language_info": {
   "codemirror_mode": {
    "name": "ipython",
    "version": 3
   },
   "file_extension": ".py",
   "mimetype": "text/x-python",
   "name": "python",
   "nbconvert_exporter": "python",
   "pygments_lexer": "ipython3",
   "version": "3.9.4"
  }
 },
 "nbformat": 4,
 "nbformat_minor": 1
}