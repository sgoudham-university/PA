{
 "cells": [
  {
   "cell_type": "markdown",
   "metadata": {},
   "source": [
    "# Algorithmic Analysis -> Problem Set 2.1"
   ]
  },
  {
   "cell_type": "markdown",
   "metadata": {
    "pycharm": {
     "name": "#%% md\n"
    }
   },
   "source": [
    "## 4(a)"
   ]
  },
  {
   "cell_type": "markdown",
   "metadata": {
    "pycharm": {
     "name": "#%% md\n"
    }
   },
   "source": [
    "### Initialising Functions"
   ]
  },
  {
   "cell_type": "code",
   "execution_count": 1,
   "metadata": {
    "pycharm": {
     "name": "#%%\n"
    }
   },
   "outputs": [],
   "source": [
    "import random\n",
    "import numpy as np\n",
    "from timeit import default_timer as timer\n",
    "\n",
    "\n",
    "def array_max(my_array):\n",
    "    maximum_element = my_array[0]\n",
    "    for element in my_array[1:]:\n",
    "        if maximum_element < element:\n",
    "            maximum_element = element\n",
    "    return maximum_element\n",
    "\n",
    "\n",
    "def initialise_array(n):\n",
    "    return np.array([random.randint(0, 1000000) for _ in range(n)])"
   ]
  },
  {
   "cell_type": "markdown",
   "metadata": {
    "pycharm": {
     "name": "#%% md\n"
    }
   },
   "source": [
    "### N = 10"
   ]
  },
  {
   "cell_type": "code",
   "execution_count": 5,
   "metadata": {
    "pycharm": {
     "name": "#%%\n"
    }
   },
   "outputs": [
    {
     "name": "stdout",
     "output_type": "stream",
     "text": [
      "Average Time Taken: 2.5599983928259462e-06\n"
     ]
    }
   ],
   "source": [
    "average_times = []\n",
    "for count in range(10):\n",
    "    ten_array = initialise_array(10)\n",
    "    start = timer()\n",
    "    max_element = array_max(ten_array)\n",
    "    end = timer()\n",
    "    average_times.append(end - start)\n",
    "print(f\"Average Time Taken: {sum(average_times) / len(average_times)}\")"
   ]
  },
  {
   "cell_type": "markdown",
   "metadata": {},
   "source": [
    "### N = 100"
   ]
  },
  {
   "cell_type": "code",
   "execution_count": 6,
   "metadata": {
    "pycharm": {
     "name": "#%%\n"
    }
   },
   "outputs": [
    {
     "name": "stdout",
     "output_type": "stream",
     "text": [
      "Average Time Taken: 7.940000068629161e-06\n"
     ]
    }
   ],
   "source": [
    "average_times = []\n",
    "for count in range(10):\n",
    "    ten_array = initialise_array(100)\n",
    "    start = timer()\n",
    "    max_element = array_max(ten_array)\n",
    "    end = timer()\n",
    "    average_times.append(end - start)\n",
    "print(f\"Average Time Taken: {sum(average_times) / len(average_times)}\")"
   ]
  },
  {
   "cell_type": "markdown",
   "metadata": {
    "pycharm": {
     "name": "#%% md\n"
    }
   },
   "source": [
    "### N = 1000"
   ]
  },
  {
   "cell_type": "code",
   "execution_count": 7,
   "metadata": {
    "pycharm": {
     "name": "#%%\n"
    }
   },
   "outputs": [
    {
     "name": "stdout",
     "output_type": "stream",
     "text": [
      "Average Time Taken: 0.00042495999878156\n"
     ]
    }
   ],
   "source": [
    "average_times = []\n",
    "for count in range(10):\n",
    "    ten_array = initialise_array(10000)\n",
    "    start = timer()\n",
    "    max_element = array_max(ten_array)\n",
    "    end = timer()\n",
    "    average_times.append(end - start)\n",
    "print(f\"Average Time Taken: {sum(average_times) / len(average_times)}\")"
   ]
  },
  {
   "cell_type": "markdown",
   "metadata": {
    "pycharm": {
     "name": "#%% md\n"
    }
   },
   "source": [
    "## Findings\n",
    "\n",
    "**BIGGER NUMBER = LONGER TIME**"
   ]
  }
 ],
 "metadata": {
  "kernelspec": {
   "display_name": "Python 3 (ipykernel)",
   "language": "python",
   "name": "python3"
  },
  "language_info": {
   "codemirror_mode": {
    "name": "ipython",
    "version": 3
   },
   "file_extension": ".py",
   "mimetype": "text/x-python",
   "name": "python",
   "nbconvert_exporter": "python",
   "pygments_lexer": "ipython3",
   "version": "3.9.4"
  },
  "toc": {
   "base_numbering": 1,
   "nav_menu": {},
   "number_sections": true,
   "sideBar": true,
   "skip_h1_title": false,
   "title_cell": "Table of Contents",
   "title_sidebar": "",
   "toc_cell": false,
   "toc_position": {
    "height": "789px",
    "left": "846px",
    "top": "156px",
    "width": "384px"
   },
   "toc_section_display": true,
   "toc_window_display": true
  }
 },
 "nbformat": 4,
 "nbformat_minor": 1
}