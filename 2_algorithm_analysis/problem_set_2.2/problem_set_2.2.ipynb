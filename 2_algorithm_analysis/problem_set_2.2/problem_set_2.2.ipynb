{
 "cells": [
  {
   "cell_type": "markdown",
   "metadata": {
    "collapsed": true,
    "pycharm": {
     "name": "#%% md\n"
    }
   },
   "source": [
    "# Algorithmic Analysis -> Problem Set 2.2\n",
    "\n",
    "## Bubble Sort:\n",
    "\n",
    "![bubble_sort](bubble_sort.png)"
   ]
  },
  {
   "cell_type": "markdown",
   "metadata": {},
   "source": [
    "## 1(a)\n",
    "\n",
    "**Q.** Analyze the pseudo-code shown above to find the algorithm's big-Oh complexity."
   ]
  },
  {
   "cell_type": "markdown",
   "metadata": {},
   "source": [
    "**A.** The time complexity of bubble sort is O(n^2)"
   ]
  },
  {
   "cell_type": "markdown",
   "metadata": {
    "pycharm": {
     "name": "#%% md\n"
    }
   },
   "source": [
    "## 1(b)\n",
    "\n",
    "Implement the above algorithm in Python, and measure the time taken to sort lists of size 100, 1000, 10_000,and 20_000 (updated).\n",
    "The lists should initially be populated randomly with positive integers in the range 0-1000.\n",
    "\n",
    "Compare your empirical observations with the big-Oh complexity analysis you did in 1(a)"
   ]
  },
  {
   "cell_type": "markdown",
   "metadata": {},
   "source": [
    "### Create Initialise List Function"
   ]
  },
  {
   "cell_type": "code",
   "execution_count": 54,
   "metadata": {
    "pycharm": {
     "name": "#%%\n"
    }
   },
   "outputs": [],
   "source": [
    "from random import randint\n",
    "\n",
    "def initialise_list(n):\n",
    "    return [randint(0, 1000) for _ in range(n)]"
   ]
  },
  {
   "cell_type": "markdown",
   "metadata": {
    "pycharm": {
     "name": "#%% md\n"
    }
   },
   "source": [
    "### Create Bubble Sort Function"
   ]
  },
  {
   "cell_type": "code",
   "execution_count": 55,
   "metadata": {
    "pycharm": {
     "name": "#%%\n"
    }
   },
   "outputs": [],
   "source": [
    "def bubble_sort(given_list):\n",
    "    for outer in range(len(given_list), 0, -1):\n",
    "        for inner in range(outer - 1):\n",
    "            if given_list[inner] > given_list[inner + 1]:\n",
    "                temp = given_list[inner + 1]\n",
    "                given_list[inner + 1] = given_list[inner]\n",
    "                given_list[inner] = temp"
   ]
  },
  {
   "cell_type": "markdown",
   "metadata": {
    "pycharm": {
     "name": "#%% md\n"
    }
   },
   "source": [
    "### Measure Time Taken:"
   ]
  },
  {
   "cell_type": "markdown",
   "metadata": {},
   "source": [
    "#### N = 100"
   ]
  },
  {
   "cell_type": "code",
   "execution_count": 56,
   "metadata": {
    "pycharm": {
     "name": "#%%\n"
    }
   },
   "outputs": [
    {
     "name": "stdout",
     "output_type": "stream",
     "text": [
      "Time Taken: 0.0005138000001352339s\n"
     ]
    }
   ],
   "source": [
    "from timeit import default_timer as timer\n",
    "\n",
    "ten_list = initialise_list(100)\n",
    "start = timer()\n",
    "bubble_sort(ten_list)\n",
    "end = timer()\n",
    "print(f\"Time Taken: {end - start}s\")"
   ]
  },
  {
   "cell_type": "markdown",
   "metadata": {},
   "source": [
    "#### N = 1000"
   ]
  },
  {
   "cell_type": "code",
   "execution_count": 57,
   "metadata": {
    "pycharm": {
     "name": "#%%\n"
    }
   },
   "outputs": [
    {
     "name": "stdout",
     "output_type": "stream",
     "text": [
      "Time Taken: 0.0005581000000347558s\n"
     ]
    }
   ],
   "source": [
    "from timeit import default_timer as timer\n",
    "\n",
    "ten_list = initialise_list(100)\n",
    "start = timer()\n",
    "bubble_sort(ten_list)\n",
    "end = timer()\n",
    "print(f\"Time Taken: {end - start}s\")"
   ]
  },
  {
   "cell_type": "markdown",
   "metadata": {},
   "source": [
    "#### N = 10,000"
   ]
  },
  {
   "cell_type": "code",
   "execution_count": 58,
   "metadata": {
    "pycharm": {
     "name": "#%%\n"
    }
   },
   "outputs": [
    {
     "name": "stdout",
     "output_type": "stream",
     "text": [
      "Time Taken: 5.112799600000017s\n"
     ]
    }
   ],
   "source": [
    "ten_list = initialise_list(10000)\n",
    "start = timer()\n",
    "bubble_sort(ten_list)\n",
    "end = timer()\n",
    "print(f\"Time Taken: {end - start}s\")"
   ]
  },
  {
   "cell_type": "markdown",
   "source": [
    "#### N = 20,000"
   ],
   "metadata": {
    "collapsed": false
   }
  },
  {
   "cell_type": "code",
   "execution_count": 59,
   "outputs": [
    {
     "name": "stdout",
     "output_type": "stream",
     "text": [
      "Time Taken: 20.453389300000026s\n"
     ]
    }
   ],
   "source": [
    "ten_list = initialise_list(20000)\n",
    "start = timer()\n",
    "bubble_sort(ten_list)\n",
    "end = timer()\n",
    "print(f\"Time Taken: {end - start}s\")"
   ],
   "metadata": {
    "collapsed": false,
    "pycharm": {
     "name": "#%%\n"
    }
   }
  },
  {
   "cell_type": "markdown",
   "source": [
    "#### N = 40,000"
   ],
   "metadata": {
    "collapsed": false
   }
  },
  {
   "cell_type": "code",
   "execution_count": 60,
   "outputs": [
    {
     "name": "stdout",
     "output_type": "stream",
     "text": [
      "Time Taken: 83.23741990000008s\n"
     ]
    }
   ],
   "source": [
    "ten_list = initialise_list(40000)\n",
    "start = timer()\n",
    "bubble_sort(ten_list)\n",
    "end = timer()\n",
    "print(f\"Time Taken: {end - start}s\")"
   ],
   "metadata": {
    "collapsed": false,
    "pycharm": {
     "name": "#%%\n"
    }
   }
  },
  {
   "cell_type": "markdown",
   "metadata": {
    "pycharm": {
     "name": "#%% md\n"
    }
   },
   "source": [
    "### Findings\n",
    "\n",
    "As the size of the list doubles, the time taken increases."
   ]
  }
 ],
 "metadata": {
  "kernelspec": {
   "display_name": "Python 3 (ipykernel)",
   "language": "python",
   "name": "python3"
  },
  "language_info": {
   "codemirror_mode": {
    "name": "ipython",
    "version": 3
   },
   "file_extension": ".py",
   "mimetype": "text/x-python",
   "name": "python",
   "nbconvert_exporter": "python",
   "pygments_lexer": "ipython3",
   "version": "3.9.4"
  }
 },
 "nbformat": 4,
 "nbformat_minor": 1
}