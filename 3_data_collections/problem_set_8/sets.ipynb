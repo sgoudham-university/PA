{
 "cells": [
  {
   "cell_type": "markdown",
   "metadata": {
    "collapsed": true,
    "pycharm": {
     "name": "#%% md\n"
    }
   },
   "source": [
    "# Data Collections -> Problem Set 8.2 (Sets)"
   ]
  },
  {
   "cell_type": "markdown",
   "source": [
    "## 4.\n",
    "\n",
    "**Q.** Using set data structures in Python for greater good"
   ],
   "metadata": {
    "collapsed": false
   }
  },
  {
   "cell_type": "markdown",
   "source": [
    "**A.** Done :D"
   ],
   "metadata": {
    "collapsed": false
   }
  },
  {
   "cell_type": "markdown",
   "source": [
    "## 4(a)\n",
    "\n",
    "**Q.** Using sets in Python, create and test a function \"count_unique()\" that counts the number of unique elements in a given list.\n",
    "E.g. if you test it with  L = [1, 2, 3, 1, 1, 4, 5, 6], it should return: 6"
   ],
   "metadata": {
    "collapsed": false,
    "pycharm": {
     "name": "#%% md\n"
    }
   }
  },
  {
   "cell_type": "code",
   "execution_count": 2,
   "outputs": [
    {
     "name": "stdout",
     "output_type": "stream",
     "text": [
      "No. Of Unique Elements in [1, 2, 3, 1, 1, 4, 5, 6]: 6\n"
     ]
    }
   ],
   "source": [
    "def count_unique():\n",
    "    return len({1, 2, 3, 1, 1, 4, 5, 6})\n",
    "\n",
    "\n",
    "print(f\"No. Of Unique Elements in [1, 2, 3, 1, 1, 4, 5, 6]: {count_unique()}\")"
   ],
   "metadata": {
    "collapsed": false,
    "pycharm": {
     "name": "#%%\n"
    }
   }
  },
  {
   "cell_type": "markdown",
   "source": [
    "## 4(b)\n",
    "\n",
    "**Q.** Using set operations in Python, create and then test a function \"absent_alphabets()\" which, when passed a string with small-caps English alphabets and whitespaces only, returns a list of the alphabets that are missing in that list.\n",
    "E.g. absent_alphabets(\"A quick brown yes quick brown fox oh that quick brown fox jumps over the lazy cat\") should return the list ['d', 'g']"
   ],
   "metadata": {
    "collapsed": false,
    "pycharm": {
     "name": "#%% md\n"
    }
   }
  },
  {
   "cell_type": "code",
   "source": [
    "import string\n",
    "\n",
    "\n",
    "def absent_alphabets(sentence):\n",
    "    return list(set(string.ascii_lowercase) - set(sentence))\n",
    "\n",
    "\n",
    "print(absent_alphabets(\"A quick brown yes quick brown fox oh that quick brown fox jumps over the lazy cat\"))"
   ],
   "metadata": {
    "collapsed": false,
    "pycharm": {
     "name": "#%%\n"
    }
   },
   "execution_count": 6,
   "outputs": [
    {
     "name": "stdout",
     "output_type": "stream",
     "text": [
      "['g', 'd']\n"
     ]
    }
   ]
  },
  {
   "cell_type": "markdown",
   "source": [
    "## 4(c)\n",
    "\n",
    "**Q.** Create a function \"order_neutral_list_comparison()\" that accepts two lists as arguments, and returns True if they both have the same unique elements, irrespective of their order.\n",
    "E.g. order_neutral_list_comparison([1,3,5,7,9], [1,5,7,9,9,3]) should return True"
   ],
   "metadata": {
    "collapsed": false,
    "pycharm": {
     "name": "#%% md\n"
    }
   }
  },
  {
   "cell_type": "code",
   "execution_count": 1,
   "outputs": [
    {
     "name": "stdout",
     "output_type": "stream",
     "text": [
      "True\n"
     ]
    }
   ],
   "source": [
    "def order_neutral_comparison(list_one, list_two):\n",
    "    return set(list_one) == set(list_two)\n",
    "\n",
    "\n",
    "print(order_neutral_comparison([1, 3, 5, 7, 9], [1, 5, 7, 9, 9, 3]))"
   ],
   "metadata": {
    "collapsed": false,
    "pycharm": {
     "name": "#%%\n"
    }
   }
  }
 ],
 "metadata": {
  "kernelspec": {
   "display_name": "Python 3",
   "language": "python",
   "name": "python3"
  },
  "language_info": {
   "codemirror_mode": {
    "name": "ipython",
    "version": 2
   },
   "file_extension": ".py",
   "mimetype": "text/x-python",
   "name": "python",
   "nbconvert_exporter": "python",
   "pygments_lexer": "ipython2",
   "version": "2.7.6"
  }
 },
 "nbformat": 4,
 "nbformat_minor": 0
}